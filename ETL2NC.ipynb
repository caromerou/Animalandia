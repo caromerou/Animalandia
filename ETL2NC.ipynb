{
  "cells": [
    {
      "cell_type": "markdown",
      "metadata": {
        "id": "view-in-github",
        "colab_type": "text"
      },
      "source": [
        "<a href=\"https://colab.research.google.com/github/caromerou/Animalandia/blob/main/ETL2NC.ipynb\" target=\"_parent\"><img src=\"https://colab.research.google.com/assets/colab-badge.svg\" alt=\"Open In Colab\"/></a>"
      ]
    },
    {
      "cell_type": "markdown",
      "metadata": {
        "id": "7Bu78zo2TTiK"
      },
      "source": [
        "\n",
        "\n",
        "1.   Importar libreria pandas\n",
        "2.   Subir archivo\n",
        "3.   Comprobar no falten datos\n",
        "4.   Mostrar filas y columnas\n",
        "\n",
        "\n"
      ]
    },
    {
      "cell_type": "code",
      "execution_count": null,
      "metadata": {
        "colab": {
          "base_uri": "https://localhost:8080/",
          "height": 415
        },
        "id": "gaZr7oOS_6K9",
        "outputId": "1a62952d-9cbc-4508-9412-61cc5b560443"
      },
      "outputs": [
        {
          "output_type": "display_data",
          "data": {
            "text/plain": [
              "<IPython.core.display.HTML object>"
            ],
            "text/html": [
              "\n",
              "     <input type=\"file\" id=\"files-9d77c842-cca5-41f1-a23b-9e7ed276cdc9\" name=\"files[]\" multiple disabled\n",
              "        style=\"border:none\" />\n",
              "     <output id=\"result-9d77c842-cca5-41f1-a23b-9e7ed276cdc9\">\n",
              "      Upload widget is only available when the cell has been executed in the\n",
              "      current browser session. Please rerun this cell to enable.\n",
              "      </output>\n",
              "      <script>// Copyright 2017 Google LLC\n",
              "//\n",
              "// Licensed under the Apache License, Version 2.0 (the \"License\");\n",
              "// you may not use this file except in compliance with the License.\n",
              "// You may obtain a copy of the License at\n",
              "//\n",
              "//      http://www.apache.org/licenses/LICENSE-2.0\n",
              "//\n",
              "// Unless required by applicable law or agreed to in writing, software\n",
              "// distributed under the License is distributed on an \"AS IS\" BASIS,\n",
              "// WITHOUT WARRANTIES OR CONDITIONS OF ANY KIND, either express or implied.\n",
              "// See the License for the specific language governing permissions and\n",
              "// limitations under the License.\n",
              "\n",
              "/**\n",
              " * @fileoverview Helpers for google.colab Python module.\n",
              " */\n",
              "(function(scope) {\n",
              "function span(text, styleAttributes = {}) {\n",
              "  const element = document.createElement('span');\n",
              "  element.textContent = text;\n",
              "  for (const key of Object.keys(styleAttributes)) {\n",
              "    element.style[key] = styleAttributes[key];\n",
              "  }\n",
              "  return element;\n",
              "}\n",
              "\n",
              "// Max number of bytes which will be uploaded at a time.\n",
              "const MAX_PAYLOAD_SIZE = 100 * 1024;\n",
              "\n",
              "function _uploadFiles(inputId, outputId) {\n",
              "  const steps = uploadFilesStep(inputId, outputId);\n",
              "  const outputElement = document.getElementById(outputId);\n",
              "  // Cache steps on the outputElement to make it available for the next call\n",
              "  // to uploadFilesContinue from Python.\n",
              "  outputElement.steps = steps;\n",
              "\n",
              "  return _uploadFilesContinue(outputId);\n",
              "}\n",
              "\n",
              "// This is roughly an async generator (not supported in the browser yet),\n",
              "// where there are multiple asynchronous steps and the Python side is going\n",
              "// to poll for completion of each step.\n",
              "// This uses a Promise to block the python side on completion of each step,\n",
              "// then passes the result of the previous step as the input to the next step.\n",
              "function _uploadFilesContinue(outputId) {\n",
              "  const outputElement = document.getElementById(outputId);\n",
              "  const steps = outputElement.steps;\n",
              "\n",
              "  const next = steps.next(outputElement.lastPromiseValue);\n",
              "  return Promise.resolve(next.value.promise).then((value) => {\n",
              "    // Cache the last promise value to make it available to the next\n",
              "    // step of the generator.\n",
              "    outputElement.lastPromiseValue = value;\n",
              "    return next.value.response;\n",
              "  });\n",
              "}\n",
              "\n",
              "/**\n",
              " * Generator function which is called between each async step of the upload\n",
              " * process.\n",
              " * @param {string} inputId Element ID of the input file picker element.\n",
              " * @param {string} outputId Element ID of the output display.\n",
              " * @return {!Iterable<!Object>} Iterable of next steps.\n",
              " */\n",
              "function* uploadFilesStep(inputId, outputId) {\n",
              "  const inputElement = document.getElementById(inputId);\n",
              "  inputElement.disabled = false;\n",
              "\n",
              "  const outputElement = document.getElementById(outputId);\n",
              "  outputElement.innerHTML = '';\n",
              "\n",
              "  const pickedPromise = new Promise((resolve) => {\n",
              "    inputElement.addEventListener('change', (e) => {\n",
              "      resolve(e.target.files);\n",
              "    });\n",
              "  });\n",
              "\n",
              "  const cancel = document.createElement('button');\n",
              "  inputElement.parentElement.appendChild(cancel);\n",
              "  cancel.textContent = 'Cancel upload';\n",
              "  const cancelPromise = new Promise((resolve) => {\n",
              "    cancel.onclick = () => {\n",
              "      resolve(null);\n",
              "    };\n",
              "  });\n",
              "\n",
              "  // Wait for the user to pick the files.\n",
              "  const files = yield {\n",
              "    promise: Promise.race([pickedPromise, cancelPromise]),\n",
              "    response: {\n",
              "      action: 'starting',\n",
              "    }\n",
              "  };\n",
              "\n",
              "  cancel.remove();\n",
              "\n",
              "  // Disable the input element since further picks are not allowed.\n",
              "  inputElement.disabled = true;\n",
              "\n",
              "  if (!files) {\n",
              "    return {\n",
              "      response: {\n",
              "        action: 'complete',\n",
              "      }\n",
              "    };\n",
              "  }\n",
              "\n",
              "  for (const file of files) {\n",
              "    const li = document.createElement('li');\n",
              "    li.append(span(file.name, {fontWeight: 'bold'}));\n",
              "    li.append(span(\n",
              "        `(${file.type || 'n/a'}) - ${file.size} bytes, ` +\n",
              "        `last modified: ${\n",
              "            file.lastModifiedDate ? file.lastModifiedDate.toLocaleDateString() :\n",
              "                                    'n/a'} - `));\n",
              "    const percent = span('0% done');\n",
              "    li.appendChild(percent);\n",
              "\n",
              "    outputElement.appendChild(li);\n",
              "\n",
              "    const fileDataPromise = new Promise((resolve) => {\n",
              "      const reader = new FileReader();\n",
              "      reader.onload = (e) => {\n",
              "        resolve(e.target.result);\n",
              "      };\n",
              "      reader.readAsArrayBuffer(file);\n",
              "    });\n",
              "    // Wait for the data to be ready.\n",
              "    let fileData = yield {\n",
              "      promise: fileDataPromise,\n",
              "      response: {\n",
              "        action: 'continue',\n",
              "      }\n",
              "    };\n",
              "\n",
              "    // Use a chunked sending to avoid message size limits. See b/62115660.\n",
              "    let position = 0;\n",
              "    do {\n",
              "      const length = Math.min(fileData.byteLength - position, MAX_PAYLOAD_SIZE);\n",
              "      const chunk = new Uint8Array(fileData, position, length);\n",
              "      position += length;\n",
              "\n",
              "      const base64 = btoa(String.fromCharCode.apply(null, chunk));\n",
              "      yield {\n",
              "        response: {\n",
              "          action: 'append',\n",
              "          file: file.name,\n",
              "          data: base64,\n",
              "        },\n",
              "      };\n",
              "\n",
              "      let percentDone = fileData.byteLength === 0 ?\n",
              "          100 :\n",
              "          Math.round((position / fileData.byteLength) * 100);\n",
              "      percent.textContent = `${percentDone}% done`;\n",
              "\n",
              "    } while (position < fileData.byteLength);\n",
              "  }\n",
              "\n",
              "  // All done.\n",
              "  yield {\n",
              "    response: {\n",
              "      action: 'complete',\n",
              "    }\n",
              "  };\n",
              "}\n",
              "\n",
              "scope.google = scope.google || {};\n",
              "scope.google.colab = scope.google.colab || {};\n",
              "scope.google.colab._files = {\n",
              "  _uploadFiles,\n",
              "  _uploadFilesContinue,\n",
              "};\n",
              "})(self);\n",
              "</script> "
            ]
          },
          "metadata": {}
        },
        {
          "output_type": "error",
          "ename": "KeyboardInterrupt",
          "evalue": "",
          "traceback": [
            "\u001b[0;31m---------------------------------------------------------------------------\u001b[0m",
            "\u001b[0;31mKeyboardInterrupt\u001b[0m                         Traceback (most recent call last)",
            "\u001b[0;32m<ipython-input-1-aef7a9b9e0a1>\u001b[0m in \u001b[0;36m<cell line: 5>\u001b[0;34m()\u001b[0m\n\u001b[1;32m      3\u001b[0m \u001b[0;34m\u001b[0m\u001b[0m\n\u001b[1;32m      4\u001b[0m \u001b[0;31m# Subir archivo\u001b[0m\u001b[0;34m\u001b[0m\u001b[0;34m\u001b[0m\u001b[0m\n\u001b[0;32m----> 5\u001b[0;31m \u001b[0muploaded\u001b[0m \u001b[0;34m=\u001b[0m \u001b[0mfiles\u001b[0m\u001b[0;34m.\u001b[0m\u001b[0mupload\u001b[0m\u001b[0;34m(\u001b[0m\u001b[0;34m)\u001b[0m\u001b[0;34m\u001b[0m\u001b[0;34m\u001b[0m\u001b[0m\n\u001b[0m\u001b[1;32m      6\u001b[0m \u001b[0;34m\u001b[0m\u001b[0m\n\u001b[1;32m      7\u001b[0m \u001b[0;31m# Obtener el nombre del archivo subido\u001b[0m\u001b[0;34m\u001b[0m\u001b[0;34m\u001b[0m\u001b[0m\n",
            "\u001b[0;32m/usr/local/lib/python3.10/dist-packages/google/colab/files.py\u001b[0m in \u001b[0;36mupload\u001b[0;34m()\u001b[0m\n\u001b[1;32m     67\u001b[0m   \"\"\"\n\u001b[1;32m     68\u001b[0m \u001b[0;34m\u001b[0m\u001b[0m\n\u001b[0;32m---> 69\u001b[0;31m   \u001b[0muploaded_files\u001b[0m \u001b[0;34m=\u001b[0m \u001b[0m_upload_files\u001b[0m\u001b[0;34m(\u001b[0m\u001b[0mmultiple\u001b[0m\u001b[0;34m=\u001b[0m\u001b[0;32mTrue\u001b[0m\u001b[0;34m)\u001b[0m\u001b[0;34m\u001b[0m\u001b[0;34m\u001b[0m\u001b[0m\n\u001b[0m\u001b[1;32m     70\u001b[0m   \u001b[0;31m# Mapping from original filename to filename as saved locally.\u001b[0m\u001b[0;34m\u001b[0m\u001b[0;34m\u001b[0m\u001b[0m\n\u001b[1;32m     71\u001b[0m   \u001b[0mlocal_filenames\u001b[0m \u001b[0;34m=\u001b[0m \u001b[0mdict\u001b[0m\u001b[0;34m(\u001b[0m\u001b[0;34m)\u001b[0m\u001b[0;34m\u001b[0m\u001b[0;34m\u001b[0m\u001b[0m\n",
            "\u001b[0;32m/usr/local/lib/python3.10/dist-packages/google/colab/files.py\u001b[0m in \u001b[0;36m_upload_files\u001b[0;34m(multiple)\u001b[0m\n\u001b[1;32m    162\u001b[0m \u001b[0;34m\u001b[0m\u001b[0m\n\u001b[1;32m    163\u001b[0m   \u001b[0;32mwhile\u001b[0m \u001b[0mresult\u001b[0m\u001b[0;34m[\u001b[0m\u001b[0;34m'action'\u001b[0m\u001b[0;34m]\u001b[0m \u001b[0;34m!=\u001b[0m \u001b[0;34m'complete'\u001b[0m\u001b[0;34m:\u001b[0m\u001b[0;34m\u001b[0m\u001b[0;34m\u001b[0m\u001b[0m\n\u001b[0;32m--> 164\u001b[0;31m     result = _output.eval_js(\n\u001b[0m\u001b[1;32m    165\u001b[0m         'google.colab._files._uploadFilesContinue(\"{output_id}\")'.format(\n\u001b[1;32m    166\u001b[0m             \u001b[0moutput_id\u001b[0m\u001b[0;34m=\u001b[0m\u001b[0moutput_id\u001b[0m\u001b[0;34m\u001b[0m\u001b[0;34m\u001b[0m\u001b[0m\n",
            "\u001b[0;32m/usr/local/lib/python3.10/dist-packages/google/colab/output/_js.py\u001b[0m in \u001b[0;36meval_js\u001b[0;34m(script, ignore_result, timeout_sec)\u001b[0m\n\u001b[1;32m     38\u001b[0m   \u001b[0;32mif\u001b[0m \u001b[0mignore_result\u001b[0m\u001b[0;34m:\u001b[0m\u001b[0;34m\u001b[0m\u001b[0;34m\u001b[0m\u001b[0m\n\u001b[1;32m     39\u001b[0m     \u001b[0;32mreturn\u001b[0m\u001b[0;34m\u001b[0m\u001b[0;34m\u001b[0m\u001b[0m\n\u001b[0;32m---> 40\u001b[0;31m   \u001b[0;32mreturn\u001b[0m \u001b[0m_message\u001b[0m\u001b[0;34m.\u001b[0m\u001b[0mread_reply_from_input\u001b[0m\u001b[0;34m(\u001b[0m\u001b[0mrequest_id\u001b[0m\u001b[0;34m,\u001b[0m \u001b[0mtimeout_sec\u001b[0m\u001b[0;34m)\u001b[0m\u001b[0;34m\u001b[0m\u001b[0;34m\u001b[0m\u001b[0m\n\u001b[0m\u001b[1;32m     41\u001b[0m \u001b[0;34m\u001b[0m\u001b[0m\n\u001b[1;32m     42\u001b[0m \u001b[0;34m\u001b[0m\u001b[0m\n",
            "\u001b[0;32m/usr/local/lib/python3.10/dist-packages/google/colab/_message.py\u001b[0m in \u001b[0;36mread_reply_from_input\u001b[0;34m(message_id, timeout_sec)\u001b[0m\n\u001b[1;32m     94\u001b[0m     \u001b[0mreply\u001b[0m \u001b[0;34m=\u001b[0m \u001b[0m_read_next_input_message\u001b[0m\u001b[0;34m(\u001b[0m\u001b[0;34m)\u001b[0m\u001b[0;34m\u001b[0m\u001b[0;34m\u001b[0m\u001b[0m\n\u001b[1;32m     95\u001b[0m     \u001b[0;32mif\u001b[0m \u001b[0mreply\u001b[0m \u001b[0;34m==\u001b[0m \u001b[0m_NOT_READY\u001b[0m \u001b[0;32mor\u001b[0m \u001b[0;32mnot\u001b[0m \u001b[0misinstance\u001b[0m\u001b[0;34m(\u001b[0m\u001b[0mreply\u001b[0m\u001b[0;34m,\u001b[0m \u001b[0mdict\u001b[0m\u001b[0;34m)\u001b[0m\u001b[0;34m:\u001b[0m\u001b[0;34m\u001b[0m\u001b[0;34m\u001b[0m\u001b[0m\n\u001b[0;32m---> 96\u001b[0;31m       \u001b[0mtime\u001b[0m\u001b[0;34m.\u001b[0m\u001b[0msleep\u001b[0m\u001b[0;34m(\u001b[0m\u001b[0;36m0.025\u001b[0m\u001b[0;34m)\u001b[0m\u001b[0;34m\u001b[0m\u001b[0;34m\u001b[0m\u001b[0m\n\u001b[0m\u001b[1;32m     97\u001b[0m       \u001b[0;32mcontinue\u001b[0m\u001b[0;34m\u001b[0m\u001b[0;34m\u001b[0m\u001b[0m\n\u001b[1;32m     98\u001b[0m     if (\n",
            "\u001b[0;31mKeyboardInterrupt\u001b[0m: "
          ]
        }
      ],
      "source": [
        "import pandas as pd\n",
        "from google.colab import files\n",
        "\n",
        "# Subir archivo\n",
        "uploaded = files.upload()\n",
        "\n",
        "# Obtener el nombre del archivo subido\n",
        "file_name = list(uploaded.keys())[0]\n",
        "\n",
        "# Leer el archivo CSV y crear el DataFrame df\n",
        "df = pd.read_csv(file_name)\n",
        "\n",
        "# Verificar datos faltantes\n",
        "missing_data = df.isnull().sum()\n",
        "\n",
        "# Mostrar el resumen de datos faltantes\n",
        "print(\"Resumen de datos faltantes por columna:\")\n",
        "print(missing_data)\n",
        "\n",
        "\n",
        "\n",
        "# Obtener el número de filas y columnas\n",
        "numero_filas, numero_columnas = df.shape\n",
        "print(f\"\\nNúmero total de filas: {numero_filas}\")\n",
        "print(f\"Número total de columnas: {numero_columnas}\")\n",
        "\n",
        "\n",
        "df.head(10)\n"
      ]
    },
    {
      "cell_type": "markdown",
      "source": [
        "Reduciendo la dimensionalidad de los datos"
      ],
      "metadata": {
        "id": "RqFYw3AS59KV"
      }
    },
    {
      "cell_type": "code",
      "source": [
        "from sklearn.preprocessing import LabelEncoder\n",
        "\n",
        "# Crear una instancia de LabelEncoder\n",
        "label_encoder = LabelEncoder()\n",
        "\n",
        "# Iterar a través de las columnas de texto y aplicar Label Encoding\n",
        "for col in text_columns:\n",
        "    df[col] = label_encoder.fit_transform(df[col])\n",
        "\n",
        "# Mostrar el DataFrame con variables categóricas convertidas a números usando Label Encoding\n",
        "print(df)"
      ],
      "metadata": {
        "colab": {
          "base_uri": "https://localhost:8080/"
        },
        "id": "L3nzlldG6BCe",
        "outputId": "ae841eab-9edb-4d1f-b1cd-d3fb3635ef67"
      },
      "execution_count": null,
      "outputs": [
        {
          "output_type": "stream",
          "name": "stdout",
          "text": [
            "         step  type      amount  nameOrig  oldbalanceOrg  newbalanceOrig  \\\n",
            "0           1     3     9839.64    757869      170136.00       160296.36   \n",
            "1           1     3     1864.28   2188998       21249.00        19384.72   \n",
            "2           1     4      181.00   1002156         181.00            0.00   \n",
            "3           1     1      181.00   5828262         181.00            0.00   \n",
            "4           1     3    11668.14   3445981       41554.00        29885.86   \n",
            "...       ...   ...         ...       ...            ...             ...   \n",
            "6362615   743     1   339682.13   5651847      339682.13            0.00   \n",
            "6362616   743     4  6311409.28   1737278     6311409.28            0.00   \n",
            "6362617   743     1  6311409.28    533958     6311409.28            0.00   \n",
            "6362618   743     4   850002.52   2252932      850002.52            0.00   \n",
            "6362619   743     1   850002.52    919229      850002.52            0.00   \n",
            "\n",
            "         nameDest  oldbalanceDest  newbalanceDest  isFraud  isFlaggedFraud  \n",
            "0         1662094            0.00            0.00        0               0  \n",
            "1         1733924            0.00            0.00        0               0  \n",
            "2          439685            0.00            0.00        1               0  \n",
            "3          391696        21182.00            0.00        1               0  \n",
            "4          828919            0.00            0.00        0               0  \n",
            "...           ...             ...             ...      ...             ...  \n",
            "6362615    505863            0.00       339682.13        1               0  \n",
            "6362616    260949            0.00            0.00        1               0  \n",
            "6362617    108224        68488.84      6379898.11        1               0  \n",
            "6362618    319713            0.00            0.00        1               0  \n",
            "6362619    534595      6510099.11      7360101.63        1               0  \n",
            "\n",
            "[6362620 rows x 11 columns]\n"
          ]
        }
      ]
    },
    {
      "cell_type": "markdown",
      "source": [
        "Convirtiendo de texto a nùmero\n"
      ],
      "metadata": {
        "id": "uSG-bX-x6f7H"
      }
    },
    {
      "cell_type": "code",
      "source": [
        "from sklearn.preprocessing import MinMaxScaler\n",
        "\n",
        "# Inicializar el MinMaxScaler\n",
        "scaler = MinMaxScaler()\n",
        "\n",
        "# Normalizar los datos en el DataFrame original df\n",
        "df_normalized = pd.DataFrame(scaler.fit_transform(df), columns=df.columns)\n",
        "\n",
        "# Mostrar los datos normalizados en df\n",
        "print(df_normalized)"
      ],
      "metadata": {
        "colab": {
          "base_uri": "https://localhost:8080/"
        },
        "id": "iMe6bJ9j41aK",
        "outputId": "2f26f311-6b0a-460e-b7e3-c9278868c845"
      },
      "execution_count": null,
      "outputs": [
        {
          "output_type": "stream",
          "name": "stdout",
          "text": [
            "         step  type    amount  nameOrig  oldbalanceOrg  newbalanceOrig  \\\n",
            "0         0.0  0.75  0.000106  0.119287       0.002855        0.003233   \n",
            "1         0.0  0.75  0.000020  0.344545       0.000357        0.000391   \n",
            "2         0.0  1.00  0.000002  0.157738       0.000003        0.000000   \n",
            "3         0.0  0.25  0.000002  0.917359       0.000003        0.000000   \n",
            "4         0.0  0.75  0.000126  0.542392       0.000697        0.000603   \n",
            "...       ...   ...       ...       ...            ...             ...   \n",
            "6362615   1.0  0.25  0.003674  0.889591       0.005701        0.000000   \n",
            "6362616   1.0  1.00  0.068272  0.273445       0.105923        0.000000   \n",
            "6362617   1.0  0.25  0.068272  0.084044       0.105923        0.000000   \n",
            "6362618   1.0  1.00  0.009195  0.354608       0.014265        0.000000   \n",
            "6362619   1.0  0.25  0.009195  0.144685       0.014265        0.000000   \n",
            "\n",
            "         nameDest  oldbalanceDest  newbalanceDest  isFraud  isFlaggedFraud  \n",
            "0        0.610534        0.000000        0.000000      0.0             0.0  \n",
            "1        0.636919        0.000000        0.000000      0.0             0.0  \n",
            "2        0.161509        0.000000        0.000000      1.0             0.0  \n",
            "3        0.143881        0.000059        0.000000      1.0             0.0  \n",
            "4        0.304485        0.000000        0.000000      0.0             0.0  \n",
            "...           ...             ...             ...      ...             ...  \n",
            "6362615  0.185818        0.000000        0.000954      1.0             0.0  \n",
            "6362616  0.095854        0.000000        0.000000      1.0             0.0  \n",
            "6362617  0.039754        0.000192        0.017912      1.0             0.0  \n",
            "6362618  0.117440        0.000000        0.000000      1.0             0.0  \n",
            "6362619  0.196372        0.018286        0.020664      1.0             0.0  \n",
            "\n",
            "[6362620 rows x 11 columns]\n"
          ]
        }
      ]
    },
    {
      "cell_type": "markdown",
      "source": [
        "Detectando valores atipicos con escalabilidad\n"
      ],
      "metadata": {
        "id": "fcTcu8Qq8E12"
      }
    },
    {
      "cell_type": "code",
      "source": [
        "import numpy as np\n",
        "import pandas as pd\n",
        "from sklearn.ensemble import IsolationForest\n",
        "\n",
        "# Generar datos de ejemplo\n",
        "np.random.seed(42)\n",
        "# Datos normales\n",
        "X = 0.3 * np.random.randn(1000, 2)\n",
        "# Agregar valores atípicos\n",
        "X = np.r_[X, np.random.uniform(low=-4, high=4, size=(50, 2))]\n",
        "\n",
        "# Convertir a DataFrame para mejor manejo\n",
        "df = pd.DataFrame(X, columns=['feature1', 'feature2'])\n",
        "\n",
        "# Inicializar el modelo Isolation Forest\n",
        "iso_forest = IsolationForest(contamination=0.05, random_state=42)\n",
        "\n",
        "# Entrenar el modelo\n",
        "iso_forest.fit(df)\n",
        "\n",
        "# Hacer predicciones\n",
        "df['anomaly'] = iso_forest.predict(df)\n",
        "\n",
        "# Los valores atípicos tendrán una predicción de -1\n",
        "outliers = df[df['anomaly'] == -1]\n",
        "normal_values = df[df['anomaly'] == 1]\n",
        "\n",
        "print(\"Valores atípicos detectados:\")\n",
        "print(outliers)\n",
        "print(\"Número de valores atípicos detectados:\", len(outliers))"
      ],
      "metadata": {
        "colab": {
          "base_uri": "https://localhost:8080/"
        },
        "id": "tq9p7RWY8KuX",
        "outputId": "e43a5c24-c4b1-48d7-b31e-8bd4858ec9df"
      },
      "execution_count": null,
      "outputs": [
        {
          "output_type": "stream",
          "name": "stderr",
          "text": [
            "/usr/local/lib/python3.10/dist-packages/sklearn/base.py:439: UserWarning: X does not have valid feature names, but IsolationForest was fitted with feature names\n",
            "  warnings.warn(\n"
          ]
        },
        {
          "output_type": "stream",
          "name": "stdout",
          "text": [
            "Valores atípicos detectados:\n",
            "      feature1  feature2  anomaly\n",
            "530   0.231510 -0.854563       -1\n",
            "550   0.299403 -0.868877       -1\n",
            "580  -0.749822  0.687283       -1\n",
            "769  -0.350975 -0.861679       -1\n",
            "978  -0.640702  0.941325       -1\n",
            "985   0.178067 -0.882117       -1\n",
            "1000 -0.743148 -3.471921       -1\n",
            "1001 -1.209436 -3.112015       -1\n",
            "1002  2.465882  3.581504       -1\n",
            "1003 -3.421468  3.640922       -1\n",
            "1004  0.180613 -1.603475       -1\n",
            "1005 -3.385103  0.004994       -1\n",
            "1006  2.356124  1.656692       -1\n",
            "1007 -3.598192 -3.416785       -1\n",
            "1008 -0.777014 -1.637676       -1\n",
            "1009 -2.140925 -1.751964       -1\n",
            "1010  2.427862  3.433824       -1\n",
            "1011 -0.759178  3.248888       -1\n",
            "1012 -1.428034 -0.188504       -1\n",
            "1013 -2.191768  1.123808       -1\n",
            "1014  3.831849  0.827945       -1\n",
            "1015 -1.137487  1.182540       -1\n",
            "1016 -3.016635  3.109273       -1\n",
            "1018  0.686918  0.998271       -1\n",
            "1019 -3.425794  1.460938       -1\n",
            "1020 -2.064547  1.711621       -1\n",
            "1021  2.580278  2.431668       -1\n",
            "1023 -2.856992  2.202769       -1\n",
            "1024 -1.828725 -0.026437       -1\n",
            "1025 -1.725807 -2.929373       -1\n",
            "1026  1.036462 -3.565344       -1\n",
            "1027  1.989162 -1.459306       -1\n",
            "1028 -3.998922  0.089033       -1\n",
            "1029 -3.625185 -1.790644       -1\n",
            "1030  1.655812 -3.498483       -1\n",
            "1031  2.714708 -3.969441       -1\n",
            "1032 -2.025409  1.927232       -1\n",
            "1033 -1.469839 -3.184861       -1\n",
            "1034 -1.118129 -1.836854       -1\n",
            "1035  2.741695 -1.493217       -1\n",
            "1036  2.311460  3.134977       -1\n",
            "1037 -0.529461  3.279545       -1\n",
            "1038 -0.981456  3.712627       -1\n",
            "1039 -3.285684  1.496154       -1\n",
            "1041  1.061695  1.630857       -1\n",
            "1042 -3.965094 -2.664375       -1\n",
            "1043  1.704368  1.331083       -1\n",
            "1044  3.728380  2.088302       -1\n",
            "1045  3.606182  1.620324       -1\n",
            "1046 -1.615582 -3.157081       -1\n",
            "1047  2.254591  1.153194       -1\n",
            "1048 -3.614512 -1.119596       -1\n",
            "1049  3.654399  0.003209       -1\n",
            "Número de valores atípicos detectados: 53\n"
          ]
        }
      ]
    }
  ],
  "metadata": {
    "colab": {
      "provenance": [],
      "include_colab_link": true
    },
    "kernelspec": {
      "display_name": "Python 3",
      "name": "python3"
    },
    "language_info": {
      "name": "python"
    }
  },
  "nbformat": 4,
  "nbformat_minor": 0
}